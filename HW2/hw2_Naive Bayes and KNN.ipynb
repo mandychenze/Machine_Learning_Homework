{
 "cells": [
  {
   "cell_type": "markdown",
   "metadata": {},
   "source": [
    "# HW2 - Problem2"
   ]
  },
  {
   "cell_type": "markdown",
   "metadata": {},
   "source": [
    "In this problem you will implement the naive Bayes classifier derived in Problem 1, as well as the k-NN algorithm and logistic regression algorithm.  The data consists of examples of spam and non-spamemails, of which there are 4600 labeled examples.  The feature vectorxis a 54-dimensional vector ex-tracted from the email and y= 1indicates a spam email."
   ]
  },
  {
   "cell_type": "markdown",
   "metadata": {},
   "source": [
    "## 1. Naive Bayes\n",
    "In every experiment below,randomly partition the data into 10 groups and run the algorithm 10 different times so that each group is held out as a test set one time.   The final result you show should be the cumulative result across these 10 groups."
   ]
  },
  {
   "cell_type": "markdown",
   "metadata": {},
   "source": [
    "Import Data"
   ]
  },
  {
   "cell_type": "code",
   "execution_count": 1,
   "metadata": {},
   "outputs": [],
   "source": [
    "import pandas as pd\n",
    "import numpy as np\n",
    "import math\n",
    "import matplotlib.pyplot as plt"
   ]
  },
  {
   "cell_type": "code",
   "execution_count": 2,
   "metadata": {},
   "outputs": [],
   "source": [
    "X = pd.read_csv('X.csv', header = None)\n",
    "y = pd.read_csv('y.csv', header = None)"
   ]
  },
  {
   "cell_type": "code",
   "execution_count": 3,
   "metadata": {},
   "outputs": [],
   "source": [
    "X_y_combined = pd.concat([X, y], axis=1, sort=False)\n",
    "shuffled_data = X_y_combined.sample(frac=1)"
   ]
  },
  {
   "cell_type": "code",
   "execution_count": 4,
   "metadata": {},
   "outputs": [],
   "source": [
    "data1 = shuffled_data.iloc[0:460,:]\n",
    "data2 = shuffled_data.iloc[460:920,:]\n",
    "data3 = shuffled_data.iloc[920:1380,:]\n",
    "data4 = shuffled_data.iloc[1380:1840,:]\n",
    "data5 = shuffled_data.iloc[1840:2300,:]\n",
    "data6 = shuffled_data.iloc[2300:2760,:]\n",
    "data7 = shuffled_data.iloc[2760:3220,:]\n",
    "data8 = shuffled_data.iloc[3220:3680,:]\n",
    "data9 = shuffled_data.iloc[3680:4140,:]\n",
    "data10 = shuffled_data.iloc[4140:4600,:]"
   ]
  },
  {
   "cell_type": "code",
   "execution_count": 5,
   "metadata": {},
   "outputs": [],
   "source": [
    "def train_sepratedby_class(data):\n",
    "    \n",
    "    train_1 = data[data.iloc[:,-1]==1]\n",
    "    train_0 = data[data.iloc[:,-1]==0]\n",
    "    \n",
    "    X_train_1 = train_1.iloc[:,0:54]\n",
    "    y_train_1 = train_1.iloc[:,-1]\n",
    "    X_train_0 = train_0.iloc[:,0:54]\n",
    "    y_train_0 = train_0.iloc[:,-1]\n",
    "    \n",
    "    return X_train_1, y_train_1, X_train_0, y_train_0"
   ]
  },
  {
   "cell_type": "code",
   "execution_count": 6,
   "metadata": {},
   "outputs": [],
   "source": [
    "#1-9 V.S. 10\n",
    "result1 = data1.append([data2, data3, data4, data5, data6, data7, data8, data9])\n",
    "X_train_1 = result1.iloc[:,0:54]\n",
    "y_train_1 = result1.iloc[:,-1]\n",
    "X_train_1_1, y_train_1_1, X_train_0_1, y_train_0_1 = train_sepratedby_class(result1)\n",
    "X_test_1 = data10.iloc[:,0:54]\n",
    "y_test_1 = data10.iloc[:,-1]\n",
    "X_train = result1.iloc[:,0:54]\n",
    "y_train = result1.iloc[:,-1]\n",
    "X_train_1,y_train_1,X_train_0,y_train_0= X_train_1_1,y_train_1_1,X_train_0_1,y_train_0_1\n",
    "X_test = X_test_1 \n",
    "y_test = y_test_1\n",
    "\n",
    "#1-8,10, V.S. 9\n",
    "result2 = data1.append([data2, data3, data4, data5, data6, data7, data8, data10])\n",
    "X_train_2 = result2.iloc[:,0:54]\n",
    "y_train_2 = result2.iloc[:,-1]\n",
    "X_train_1_2, y_train_1_2, X_train_0_2, y_train_0_2 = train_sepratedby_class(result2)\n",
    "X_test_2 = data9.iloc[:,0:54]\n",
    "y_test_2 = data9.iloc[:,-1]\n",
    "\n",
    "#8\n",
    "result3 = data1.append([data2, data3, data4, data5, data6, data7, data9, data10])\n",
    "X_train_3 = result3.iloc[:,0:54]\n",
    "y_train_3 = result3.iloc[:,-1]\n",
    "X_train_1_3, y_train_1_3, X_train_0_3, y_train_0_3 = train_sepratedby_class(result3)\n",
    "X_test_3 = data8.iloc[:,0:54]\n",
    "y_test_3 = data8.iloc[:,-1]\n",
    "\n",
    "#7\n",
    "result4 = data1.append([data2, data3, data4, data5, data6, data8, data9, data10])\n",
    "X_train_4 = result4.iloc[:,0:54]\n",
    "y_train_4 = result4.iloc[:,-1]\n",
    "X_train_1_4, y_train_1_4, X_train_0_4, y_train_0_4 = train_sepratedby_class(result4)\n",
    "X_test_4 = data7.iloc[:,0:54]\n",
    "y_test_4 = data7.iloc[:,-1]\n",
    "\n",
    "#6\n",
    "result5 = data1.append([data2, data3, data4, data5, data7, data8, data9, data10])\n",
    "X_train_5 = result5.iloc[:,0:54]\n",
    "y_train_5 = result5.iloc[:,-1]\n",
    "X_train_1_5, y_train_1_5, X_train_0_5, y_train_0_5 = train_sepratedby_class(result5)\n",
    "X_test_5 = data6.iloc[:,0:54]\n",
    "y_test_5 = data6.iloc[:,-1]\n",
    "\n",
    "#5\n",
    "result6 = data1.append([data2, data3, data4, data6, data7, data8, data9, data10])\n",
    "X_train_6 = result6.iloc[:,0:54]\n",
    "y_train_6 = result6.iloc[:,-1]\n",
    "X_train_1_6, y_train_1_6, X_train_0_6, y_train_0_6 = train_sepratedby_class(result6)\n",
    "X_test_6 = data5.iloc[:,0:54]\n",
    "y_test_6 = data5.iloc[:,-1]\n",
    "\n",
    "#4\n",
    "result7 = data1.append([data2, data3, data5, data6, data7, data8, data9, data10])\n",
    "X_train_7 = result7.iloc[:,0:54]\n",
    "y_train_7 = result7.iloc[:,-1]\n",
    "X_train_1_7, y_train_1_7, X_train_0_7, y_train_0_7 = train_sepratedby_class(result7)\n",
    "X_test_7 = data4.iloc[:,0:54]\n",
    "y_test_7 = data4.iloc[:,-1]\n",
    "\n",
    "#3\n",
    "result8 = data1.append([data2, data4, data5, data6, data7, data8, data9, data10])\n",
    "X_train_8 = result8.iloc[:,0:54]\n",
    "y_train_8 = result8.iloc[:,-1]\n",
    "X_train_1_8, y_train_1_8, X_train_0_8, y_train_0_8 = train_sepratedby_class(result8)\n",
    "X_test_8 = data3.iloc[:,0:54]\n",
    "y_test_8 = data3.iloc[:,-1]\n",
    "\n",
    "#2\n",
    "result9 = data1.append([data3, data4, data5, data6, data7, data8, data9, data10])\n",
    "X_train_9 = result9.iloc[:,0:54]\n",
    "y_train_9 = result9.iloc[:,-1]\n",
    "X_train_1_9, y_train_1_9, X_train_0_9, y_train_0_9 = train_sepratedby_class(result9)\n",
    "X_test_9 = data2.iloc[:,0:54]\n",
    "y_test_9 = data2.iloc[:,-1]\n",
    "\n",
    "#1\n",
    "result10 = data2.append([data3, data4, data5, data6, data7, data8, data9, data10])\n",
    "X_train_10 = result10.iloc[:,0:54]\n",
    "y_train_10 = result10.iloc[:,-1]\n",
    "X_train_1_10, y_train_1_10, X_train_0_10, y_train_0_10=train_sepratedby_class(result10)\n",
    "X_test_10 = data1.iloc[:,0:54]\n",
    "y_test_10 = data1.iloc[:,-1]"
   ]
  },
  {
   "cell_type": "markdown",
   "metadata": {},
   "source": [
    "## Question(a) Naive Bayes"
   ]
  },
  {
   "cell_type": "markdown",
   "metadata": {},
   "source": [
    "(a)  Implement the naive Bayes classifier described above. In a 2×2 table, write the number of times that you predicted a class y data point (ground truth) as a class y data point (model prediction) in the (y,y′)-th cell of the table, where y and y′can be either 0 or 1.  There should be four values written in the table in your PDF. Next to your table, write the prediction accuracy—the sum of the diagonal divided by 4600. (The sum of all entries in the table should be 4600.)"
   ]
  },
  {
   "cell_type": "markdown",
   "metadata": {},
   "source": [
    "Caculate $\\pi_{0}$, $\\pi_{1}$,$\\lambda_{0}$,$\\lambda_{1}$ first"
   ]
  },
  {
   "cell_type": "code",
   "execution_count": 7,
   "metadata": {},
   "outputs": [],
   "source": [
    "def calculate_lambda(data):\n",
    "    \"\"\"\n",
    "    Return a list containg calculated lambda\n",
    "    data: pandas dataframe\n",
    "    \"\"\"\n",
    "    lst = []\n",
    "    indice_list = np.arange(data.shape[1])\n",
    "    for i in indice_list:\n",
    "        acc = (1+sum(data[i]))/(1+len(data))\n",
    "        lst.append(acc)\n",
    "    return lst"
   ]
  },
  {
   "cell_type": "markdown",
   "metadata": {},
   "source": [
    "Calcualte $\\lambda_{0}$ and $\\lambda_{1}$ for 54 features (i = 0...53)"
   ]
  },
  {
   "cell_type": "markdown",
   "metadata": {},
   "source": [
    "Make prediction for test data"
   ]
  },
  {
   "cell_type": "code",
   "execution_count": 8,
   "metadata": {},
   "outputs": [],
   "source": [
    "def get_classprob_onerow(onerow,lambda_list, pi):\n",
    "    \"\"\"\n",
    "    Return the predicted class probability(0 or 1) for particular row.\n",
    "    onerow: a particular row\n",
    "    lambda_list: lambda_0_list or lambda_1_list, depends on which class \n",
    "    probability will be predicted\n",
    "    pi: pi_0 or pi_1\n",
    "    \"\"\"\n",
    "    i=0\n",
    "    lst = []\n",
    "    for lambda_temp in lambda_list:\n",
    "        row_array = onerow.values\n",
    "        #part1 = math.pow(lambda_list[i],row_array[i])\n",
    "        part1 = float(lambda_list[i]**row_array[i])\n",
    "        part2 = math.pow(math.e, -lambda_list[i])\n",
    "        #part3 = math.factorial(row_array[i])\n",
    "        poisson_prob = part1*part2#/part3 #poisson prob for one feature\n",
    "        lst.append(poisson_prob)\n",
    "        i+=1\n",
    "        result = np.prod(np.array(lst))*pi #class prob = P(Y=y)*joint poisson prob\n",
    "    return result"
   ]
  },
  {
   "cell_type": "code",
   "execution_count": 26,
   "metadata": {},
   "outputs": [],
   "source": [
    "def allrow_class_prob(data, ytrain, lambda_1_list, lambda_0_list, pi):\n",
    "    \"\"\"\n",
    "    Return two lists: list 'class1' consists of each row's probabiliy of \n",
    "    belonging to class1; (len(class1) = the size of data)\n",
    "    list 'class2' consists of each row's probability of beloning to class2\n",
    "    data: the data set will be predicted, e.g.: X_test\n",
    "    \"\"\"\n",
    "    class1 = []\n",
    "    class0 = []\n",
    "    pi_1 = np.mean(ytrain)\n",
    "    pi_0 = 1-pi_1\n",
    "    row_indice = np.arange(len(data))\n",
    "    for j in row_indice:\n",
    "        class1_prob = get_classprob_onerow(data.iloc[j],lambda_1_list, pi_1)\n",
    "        class1.append(class1_prob)\n",
    "        class0_prob = get_classprob_onerow(data.iloc[j],lambda_0_list, pi_0)\n",
    "        class0.append(class0_prob)\n",
    "    return class1, class0"
   ]
  },
  {
   "cell_type": "code",
   "execution_count": 17,
   "metadata": {},
   "outputs": [],
   "source": [
    "def pred_result(problist1, problist2):\n",
    "    \"\"\"\n",
    "    Return a list of predicted result(1 or 0)\n",
    "    problist1: list of class probability \n",
    "    \"\"\"\n",
    "    result = []\n",
    "    indice_list = np.arange(len(problist1))\n",
    "    for i in indice_list:\n",
    "        if problist1[i] >= problist2[i]:\n",
    "            result.append(1)\n",
    "        else:\n",
    "            result.append(0)\n",
    "        i += 1\n",
    "    return result"
   ]
  },
  {
   "cell_type": "code",
   "execution_count": 18,
   "metadata": {},
   "outputs": [],
   "source": [
    "def cal_confusion_matrix(pred_list, true_list):\n",
    "    \"\"\"\n",
    "    Return confusion matrix entries\n",
    "    \"\"\"\n",
    "    TP = 0\n",
    "    TN = 0\n",
    "    FP = 0\n",
    "    FN = 0\n",
    "    indice_list = np.arange(len(pred_list))\n",
    "    for i in indice_list:\n",
    "        if pred_list[i]==1 and true_list[i]==1:\n",
    "            TP += 1\n",
    "        elif pred_list[i]==0 and true_list[i]==1:\n",
    "            FN += 1\n",
    "        elif pred_list[i]==1 and true_list[i]==0:\n",
    "            FP += 1\n",
    "        elif pred_list[i]==0 and true_list[i]==0:\n",
    "            TN += 1\n",
    "    return TP, FN, FP, TN"
   ]
  },
  {
   "cell_type": "markdown",
   "metadata": {},
   "source": [
    "10 Cross Validation"
   ]
  },
  {
   "cell_type": "code",
   "execution_count": 29,
   "metadata": {},
   "outputs": [],
   "source": [
    "def Bayes_Confusion(data_result, ytrain, X_train_1, X_train_0, X_test, y_test):\n",
    "    y_train = data_result.iloc[:,-1]\n",
    "    pi_1 = np.mean(y_train)\n",
    "    pi_0 = 1-pi_1\n",
    "    lambda_1_list = calculate_lambda(X_train_1)\n",
    "    lambda_0_list = calculate_lambda(X_train_0)\n",
    "\n",
    "    class1, class0 = allrow_class_prob(X_test, ytrain, lambda_1_list,\n",
    "                                       lambda_0_list,pi_1)\n",
    "\n",
    "    pred_y = pred_result(class1, class0)\n",
    "    true_y = y_test.values.tolist()\n",
    "\n",
    "    TP, FN, FP, TN = cal_confusion_matrix(pred_y, true_y)\n",
    "    return TP,FN,FP, TN"
   ]
  },
  {
   "cell_type": "code",
   "execution_count": 50,
   "metadata": {},
   "outputs": [
    {
     "data": {
      "text/plain": [
       "(170, 11, 46, 233)"
      ]
     },
     "execution_count": 50,
     "metadata": {},
     "output_type": "execute_result"
    }
   ],
   "source": [
    "TP1, FN1, FP1, TN1 = Bayes_Confusion(result1, y_train, X_train_1, \n",
    "                                     X_train_0, X_test, y_test)\n",
    "TP1, FN1, FP1, TN1"
   ]
  },
  {
   "cell_type": "code",
   "execution_count": 51,
   "metadata": {},
   "outputs": [
    {
     "data": {
      "text/plain": [
       "(160, 11, 42, 247)"
      ]
     },
     "execution_count": 51,
     "metadata": {},
     "output_type": "execute_result"
    }
   ],
   "source": [
    "TP2, FN2, FP2, TN2 = Bayes_Confusion(result2, y_train_2, X_train_1_2, \n",
    "                                     X_train_0_2, X_test_2, y_test_2)\n",
    "TP2, FN2, FP2, TN2"
   ]
  },
  {
   "cell_type": "code",
   "execution_count": 52,
   "metadata": {},
   "outputs": [
    {
     "name": "stderr",
     "output_type": "stream",
     "text": [
      "/Users/zechen/anaconda2/envs/coms007/lib/python3.6/site-packages/ipykernel_launcher.py:13: RuntimeWarning: overflow encountered in power\n",
      "  del sys.path[0]\n"
     ]
    },
    {
     "data": {
      "text/plain": [
       "(168, 10, 46, 236)"
      ]
     },
     "execution_count": 52,
     "metadata": {},
     "output_type": "execute_result"
    }
   ],
   "source": [
    "TP3, FN3, FP3, TN3 = Bayes_Confusion(result3, y_train_3, X_train_1_3, \n",
    "                                     X_train_0_3, X_test_3, y_test_3)\n",
    "TP3, FN3, FP3, TN3"
   ]
  },
  {
   "cell_type": "code",
   "execution_count": 53,
   "metadata": {},
   "outputs": [
    {
     "data": {
      "text/plain": [
       "(159, 6, 51, 244)"
      ]
     },
     "execution_count": 53,
     "metadata": {},
     "output_type": "execute_result"
    }
   ],
   "source": [
    "TP4, FN4, FP4, TN4 = Bayes_Confusion(result4, y_train_4, X_train_1_4, \n",
    "                                     X_train_0_4, X_test_4, y_test_4)\n",
    "TP4, FN4, FP4, TN4"
   ]
  },
  {
   "cell_type": "code",
   "execution_count": 54,
   "metadata": {},
   "outputs": [
    {
     "data": {
      "text/plain": [
       "(186, 8, 49, 217)"
      ]
     },
     "execution_count": 54,
     "metadata": {},
     "output_type": "execute_result"
    }
   ],
   "source": [
    "TP5, FN5, FP5, TN5 = Bayes_Confusion(result5, y_train_5, X_train_1_5, \n",
    "                                     X_train_0_5, X_test_5, y_test_5)\n",
    "TP5, FN5, FP5, TN5"
   ]
  },
  {
   "cell_type": "code",
   "execution_count": 55,
   "metadata": {},
   "outputs": [
    {
     "data": {
      "text/plain": [
       "(176, 6, 50, 228)"
      ]
     },
     "execution_count": 55,
     "metadata": {},
     "output_type": "execute_result"
    }
   ],
   "source": [
    "TP6, FN6, FP6, TN6 = Bayes_Confusion(result6, y_train_6, X_train_1_6, \n",
    "                                     X_train_0_6, X_test_6, y_test_6)\n",
    "TP6, FN6, FP6, TN6"
   ]
  },
  {
   "cell_type": "code",
   "execution_count": 56,
   "metadata": {},
   "outputs": [
    {
     "data": {
      "text/plain": [
       "(174, 4, 54, 228)"
      ]
     },
     "execution_count": 56,
     "metadata": {},
     "output_type": "execute_result"
    }
   ],
   "source": [
    "TP7, FN7, FP7, TN7 = Bayes_Confusion(result7, y_train_7, X_train_1_7, \n",
    "                                     X_train_0_7, X_test_7, y_test_7)\n",
    "TP7, FN7, FP7, TN7"
   ]
  },
  {
   "cell_type": "code",
   "execution_count": 57,
   "metadata": {},
   "outputs": [
    {
     "name": "stderr",
     "output_type": "stream",
     "text": [
      "/Users/zechen/anaconda2/envs/coms007/lib/python3.6/site-packages/ipykernel_launcher.py:13: RuntimeWarning: overflow encountered in power\n",
      "  del sys.path[0]\n"
     ]
    },
    {
     "data": {
      "text/plain": [
       "(164, 14, 61, 221)"
      ]
     },
     "execution_count": 57,
     "metadata": {},
     "output_type": "execute_result"
    }
   ],
   "source": [
    "TP8, FN8, FP8, TN8 = Bayes_Confusion(result8, y_train_8, X_train_1_8, \n",
    "                                     X_train_0_8, X_test_8, y_test_8)\n",
    "TP8, FN8, FP8, TN8"
   ]
  },
  {
   "cell_type": "code",
   "execution_count": 58,
   "metadata": {},
   "outputs": [
    {
     "name": "stderr",
     "output_type": "stream",
     "text": [
      "/Users/zechen/anaconda2/envs/coms007/lib/python3.6/site-packages/ipykernel_launcher.py:13: RuntimeWarning: overflow encountered in power\n",
      "  del sys.path[0]\n"
     ]
    },
    {
     "data": {
      "text/plain": [
       "(180, 13, 49, 218)"
      ]
     },
     "execution_count": 58,
     "metadata": {},
     "output_type": "execute_result"
    }
   ],
   "source": [
    "TP9, FN9, FP9, TN9 = Bayes_Confusion(result9, y_train_9, X_train_1_9, \n",
    "                                     X_train_0_9, X_test_9, y_test_9)\n",
    "TP9, FN9, FP9, TN9"
   ]
  },
  {
   "cell_type": "code",
   "execution_count": 94,
   "metadata": {},
   "outputs": [
    {
     "data": {
      "text/plain": [
       "(175, 18, 42, 225)"
      ]
     },
     "execution_count": 94,
     "metadata": {},
     "output_type": "execute_result"
    }
   ],
   "source": [
    "TP10, FN10, FP10, TN10 = Bayes_Confusion(result10, y_train_10, X_train_1_10, \n",
    "                                         X_train_0_10, X_test_10, y_test_10)\n",
    "TP10, FN10, FP10, TN10"
   ]
  },
  {
   "cell_type": "code",
   "execution_count": 60,
   "metadata": {},
   "outputs": [],
   "source": [
    "total_TP = TP1 + TP2 + TP3 + TP4 + TP5 + TP6 + TP7 + TP8 + TP9 + TP10  \n",
    "total_FN = FN1 + FN2 + FN3 + FN4 + FN5 + FN6 + FN7 + FN8 + FN9 + FN10\n",
    "total_FP = FP1 + FP2 + FP3 + FP4 + FP5 + FP6 + FP7 + FP8 + FP9 + FP10\n",
    "total_TN = TN1 + TN2 + TN3 + TN4 + TN5 + TN6 + TN7 + TN8 + TN9 + TN10 \n",
    "total = total_TP+total_FN+total_FP+total_TN\n",
    "assert total==4600"
   ]
  },
  {
   "cell_type": "code",
   "execution_count": 61,
   "metadata": {},
   "outputs": [
    {
     "data": {
      "text/plain": [
       "(1712, 101, 490, 2297)"
      ]
     },
     "execution_count": 61,
     "metadata": {},
     "output_type": "execute_result"
    }
   ],
   "source": [
    "total_TP,total_FN,total_FP,total_TN"
   ]
  },
  {
   "cell_type": "code",
   "execution_count": 62,
   "metadata": {},
   "outputs": [
    {
     "data": {
      "text/html": [
       "<div>\n",
       "<style scoped>\n",
       "    .dataframe tbody tr th:only-of-type {\n",
       "        vertical-align: middle;\n",
       "    }\n",
       "\n",
       "    .dataframe tbody tr th {\n",
       "        vertical-align: top;\n",
       "    }\n",
       "\n",
       "    .dataframe thead th {\n",
       "        text-align: right;\n",
       "    }\n",
       "</style>\n",
       "<table border=\"1\" class=\"dataframe\">\n",
       "  <thead>\n",
       "    <tr style=\"text-align: right;\">\n",
       "      <th></th>\n",
       "      <th>Actual Postive</th>\n",
       "      <th>Actual Negative</th>\n",
       "    </tr>\n",
       "  </thead>\n",
       "  <tbody>\n",
       "    <tr>\n",
       "      <th>Predicted Postive</th>\n",
       "      <td>TP: 1714</td>\n",
       "      <td>FP: 495</td>\n",
       "    </tr>\n",
       "    <tr>\n",
       "      <th>Predicted Negative</th>\n",
       "      <td>FN: 99</td>\n",
       "      <td>TN: 2292</td>\n",
       "    </tr>\n",
       "  </tbody>\n",
       "</table>\n",
       "</div>"
      ],
      "text/plain": [
       "                   Actual Postive Actual Negative\n",
       "Predicted Postive        TP: 1714         FP: 495\n",
       "Predicted Negative         FN: 99        TN: 2292"
      ]
     },
     "metadata": {},
     "output_type": "display_data"
    }
   ],
   "source": [
    "from IPython.display import display\n",
    "data = [('TP: 1714', 'FP: 495'),('FN: 99', 'TN: 2292')]\n",
    "df = pd.DataFrame(data)\n",
    "df = df.rename({0: 'Predicted Postive', 1: 'Predicted Negative'},axis='index')\n",
    "df = df.rename({0: 'Actual Postive', 1: 'Actual Negative'}, axis='columns')\n",
    "display(df)"
   ]
  },
  {
   "cell_type": "code",
   "execution_count": 63,
   "metadata": {},
   "outputs": [
    {
     "name": "stdout",
     "output_type": "stream",
     "text": [
      "Accuracy of Naive Bayes Classifier: 0.8715217391304347\n"
     ]
    }
   ],
   "source": [
    "accuracy = (total_TP+total_TN)/(total_TP+total_FN+total_FP+total_TN)\n",
    "accuracy\n",
    "print(\"Accuracy of Naive Bayes Classifier: {}\".format(accuracy))"
   ]
  },
  {
   "cell_type": "markdown",
   "metadata": {},
   "source": [
    "## Question (b) Plot $\\lambda$"
   ]
  },
  {
   "cell_type": "markdown",
   "metadata": {},
   "source": [
    "In one figure, show a stem plot (stem()in Matlab) of the 54 Poisson parameters for each class averaged across the 10 runs.  (This average is only used for plotting purposes on this homework.In practice you would relearn these parameters using the entire data set to find their final values.)Use the README file to make an observation about dimensions 16 and 52."
   ]
  },
  {
   "cell_type": "code",
   "execution_count": 64,
   "metadata": {},
   "outputs": [],
   "source": [
    "lambda_1_list_1 = calculate_lambda(X_train_1)\n",
    "lambda_0_list_1 = calculate_lambda(X_train_0)\n",
    "\n",
    "lambda_1_list_2 = calculate_lambda(X_train_1_2)\n",
    "lambda_0_list_2 = calculate_lambda(X_train_0_2)\n",
    "\n",
    "lambda_1_list_3 = calculate_lambda(X_train_1_3)\n",
    "lambda_0_list_3 = calculate_lambda(X_train_0_3)\n",
    "\n",
    "lambda_1_list_4 = calculate_lambda(X_train_1_4)\n",
    "lambda_0_list_4 = calculate_lambda(X_train_0_4)\n",
    "\n",
    "lambda_1_list_5 = calculate_lambda(X_train_1_5)\n",
    "lambda_0_list_5 = calculate_lambda(X_train_0_5)\n",
    "\n",
    "lambda_1_list_6 = calculate_lambda(X_train_1_6)\n",
    "lambda_0_list_6 = calculate_lambda(X_train_0_6)\n",
    "\n",
    "lambda_1_list_7 = calculate_lambda(X_train_1_7)\n",
    "lambda_0_list_7 = calculate_lambda(X_train_0_7)\n",
    "\n",
    "lambda_1_list_8 = calculate_lambda(X_train_1_8)\n",
    "lambda_0_list_8 = calculate_lambda(X_train_0_8)\n",
    "\n",
    "lambda_1_list_9 = calculate_lambda(X_train_1_9)\n",
    "lambda_0_list_9 = calculate_lambda(X_train_0_9)\n",
    "\n",
    "lambda_1_list_10 = calculate_lambda(X_train_1_10)\n",
    "lambda_0_list_10 = calculate_lambda(X_train_0_10)"
   ]
  },
  {
   "cell_type": "code",
   "execution_count": 65,
   "metadata": {},
   "outputs": [],
   "source": [
    "#average lambda across 10 cross validation\n",
    "lambda1_lst = []\n",
    "lambda0_lst = []\n",
    "indice = np.arange(54)\n",
    "for i in indice:\n",
    "        lambda1 = (lambda_1_list_1[i]+lambda_1_list_2[i]+lambda_1_list_3[i]+\n",
    "                   lambda_1_list_4[i] + lambda_1_list_5[i]+lambda_1_list_6[i]+\n",
    "                   lambda_1_list_7[i]+lambda_1_list_8[i]+\n",
    "                   lambda_1_list_9[i]+lambda_1_list_10[i])/10\n",
    "        lambda1_lst.append(lambda1)\n",
    "        lambda0 = (lambda_0_list_1[i]+lambda_0_list_2[i]+lambda_0_list_3[i]+\n",
    "                   lambda_0_list_4[i] + lambda_0_list_5[i]+lambda_0_list_6[i]+\n",
    "                   lambda_0_list_7[i]+lambda_0_list_8[i]+\n",
    "                   lambda_0_list_9[i]+lambda_0_list_10[i])/10\n",
    "        lambda0_lst.append(lambda0)"
   ]
  },
  {
   "cell_type": "code",
   "execution_count": 66,
   "metadata": {},
   "outputs": [
    {
     "data": {
      "image/png": "[encoded data removed]",
      "text/plain": [
       "<Figure size 1080x720 with 2 Axes>"
      ]
     },
     "metadata": {
      "needs_background": "light"
     },
     "output_type": "display_data"
    }
   ],
   "source": [
    "x = np.arange(1,55,1)\n",
    "\n",
    "fig, ax = plt.subplots(2, 1 ,figsize=(15,10))\n",
    "markerline, stemlines, baseline = ax[0].stem(x, lambda1_lst, '-.')\n",
    "#ax[0].setp(baseline, color='r', linewidth=3)\n",
    "ax[0].set_xlabel('Variable Index')\n",
    "ax[0].set_ylabel('$\\lambda_1$')\n",
    "ax[0].set_title('Steam Plot of $\\lambda_1$')\n",
    "\n",
    "markerline, stemlines, baseline = ax[1].stem(x, lambda0_lst, '-.')\n",
    "ax[1].set_xlabel('Variable Index')\n",
    "ax[1].set_ylabel('$\\lambda_0$')\n",
    "ax[1].set_title('Steam Plot of $\\lambda_0$')\n",
    "plt.show()"
   ]
  },
  {
   "cell_type": "code",
   "execution_count": 86,
   "metadata": {},
   "outputs": [
    {
     "data": {
      "text/plain": [
       "5.213598441636"
      ]
     },
     "execution_count": 86,
     "metadata": {},
     "output_type": "execute_result"
    }
   ],
   "source": [
    "lambda1_lst[15]"
   ]
  },
  {
   "cell_type": "code",
   "execution_count": 87,
   "metadata": {},
   "outputs": [
    {
     "data": {
      "text/plain": [
       "0.7396354454800711"
      ]
     },
     "execution_count": 87,
     "metadata": {},
     "output_type": "execute_result"
    }
   ],
   "source": [
    "lambda0_lst[15]"
   ]
  },
  {
   "cell_type": "code",
   "execution_count": 88,
   "metadata": {},
   "outputs": [
    {
     "data": {
      "text/plain": [
       "5.129235958660057"
      ]
     },
     "execution_count": 88,
     "metadata": {},
     "output_type": "execute_result"
    }
   ],
   "source": [
    "lambda1_lst[51]"
   ]
  },
  {
   "cell_type": "code",
   "execution_count": 89,
   "metadata": {},
   "outputs": [
    {
     "data": {
      "text/plain": [
       "1.095979061080689"
      ]
     },
     "execution_count": 89,
     "metadata": {},
     "output_type": "execute_result"
    }
   ],
   "source": [
    "lambda0_lst[51]"
   ]
  },
  {
   "cell_type": "code",
   "execution_count": 92,
   "metadata": {},
   "outputs": [
    {
     "data": {
      "text/plain": [
       "7.0488758664777595"
      ]
     },
     "execution_count": 92,
     "metadata": {},
     "output_type": "execute_result"
    }
   ],
   "source": [
    "5.213598441636/0.7396354454800711"
   ]
  },
  {
   "cell_type": "code",
   "execution_count": 93,
   "metadata": {},
   "outputs": [
    {
     "data": {
      "text/plain": [
       "4.680049227950011"
      ]
     },
     "execution_count": 93,
     "metadata": {},
     "output_type": "execute_result"
    }
   ],
   "source": [
    "5.129235958660057/1.095979061080689"
   ]
  },
  {
   "cell_type": "markdown",
   "metadata": {},
   "source": [
    "## Explanation:"
   ]
  },
  {
   "cell_type": "markdown",
   "metadata": {},
   "source": [
    "feature 16: free; feature 52: !\n",
    "\n",
    "- If an email contains word 'free', its probability of being a spam email is approxiamtly 7 times larger compared with email that doesn't contain 'free'.\n",
    "- If an email contains word '!', its probability of being a spam email is approxiamtly 5 times larger compared with email that doesn't contain '!'."
   ]
  },
  {
   "cell_type": "markdown",
   "metadata": {},
   "source": [
    "## Question (c) KNN"
   ]
  },
  {
   "cell_type": "markdown",
   "metadata": {},
   "source": [
    "(c)  Implement the k-NN classifier for k= 1 ,..., 20.  Use the l1 distance for this problem.  Plot the prediction accuracy as a function of k.\n",
    "\n",
    "l1 distance: $\\sum_{i=1}^n|y_i-x_i|$"
   ]
  },
  {
   "cell_type": "markdown",
   "metadata": {},
   "source": [
    "procedures: use function 'pred_class' to calculate predicted class for ith row in test data. Then use function 'get_pred_list' to get predicted class for all data in test data. Finally, use 'KNN_1to20_accuracy' to calculate corresponding accuracy for K = 1,...,20"
   ]
  },
  {
   "cell_type": "code",
   "execution_count": 67,
   "metadata": {},
   "outputs": [],
   "source": [
    "def pred_class(Xtest, Xtrain, ytrain, ith_testrow:int, K:int):\n",
    "    \"\"\"\n",
    "    Return predict result for ith_testrow using KNN (return 0 or 1)\n",
    "    \"\"\"\n",
    "    \n",
    "    indices_lst1 = np.arange(Xtrain.shape[0])  #[0,2...4139]\n",
    "    #test0 = Xtest.iloc[ith_testrow].tolist()\n",
    "    #Calculate distance row by row\n",
    "    #for n in indices_lst1:\n",
    "        \n",
    "    numSamples = Xtrain.shape[0]\n",
    "    #calculate l1 distance\n",
    "    diff = abs(np.tile(Xtest.iloc[ith_testrow], (numSamples, 1)) - Xtrain.values)\n",
    "    lst = np.sum(diff, axis=1)\n",
    "    l1_data = pd.DataFrame(\n",
    "                {'l1_distance': lst,\n",
    "                 'class_label': ytrain,\n",
    "                })\n",
    "        \n",
    "    sort_l1data = l1_data.sort_values(by=['l1_distance'])\n",
    "    select_data = sort_l1data.head(K)\n",
    "    if sum(select_data['class_label']) > K/2:\n",
    "        return 1\n",
    "    elif sum(select_data['class_label']) < K/2:\n",
    "        return 0    \n",
    "    else:\n",
    "        rand = np.random.randint(2)  #tie: randomly choose 0 or 1\n",
    "        return rand"
   ]
  },
  {
   "cell_type": "code",
   "execution_count": 68,
   "metadata": {},
   "outputs": [],
   "source": [
    "def get_pred_list(Xtest, Xtrain, ytrain, K:int):\n",
    "    \"\"\"\n",
    "    Return predict list using KNN(choose K) for all data\n",
    "    \"\"\"\n",
    "    in_lst = np.arange(Xtest.shape[0])\n",
    "    pred_prob = []\n",
    "    for i in in_lst: #iterate over all rows in test data\n",
    "        knn_pred = pred_class(Xtest, Xtrain, ytrain, i, K)\n",
    "        pred_prob.append(knn_pred)\n",
    "    return pred_prob"
   ]
  },
  {
   "cell_type": "code",
   "execution_count": 69,
   "metadata": {},
   "outputs": [],
   "source": [
    "def cal_accuracy_KNN(pred_list, true_data):\n",
    "    \"\"\"\n",
    "    Return confusion matrix entries\n",
    "    \"\"\"\n",
    "    TP = 0\n",
    "    TN = 0\n",
    "    FP = 0\n",
    "    FN = 0\n",
    "    true_list = true_data.tolist()\n",
    "    indice_list = np.arange(len(pred_list))\n",
    "    for i in indice_list:\n",
    "        if pred_list[i]==1 and true_list[i]==1:\n",
    "            TP += 1\n",
    "        elif pred_list[i]==0 and true_list[i]==1:\n",
    "            FN += 1\n",
    "        elif pred_list[i]==1 and true_list[i]==0:\n",
    "            FP += 1\n",
    "        elif pred_list[i]==0 and true_list[i]==0:\n",
    "            TN += 1\n",
    "    total = TP+TN+FP+FN\n",
    "    accuracy = (TP+TN)/total\n",
    "    return accuracy"
   ]
  },
  {
   "cell_type": "code",
   "execution_count": 70,
   "metadata": {},
   "outputs": [],
   "source": [
    "def KNN_1to20_accuracy(Xtest, Xtrain, ytrain, ytest):\n",
    "    \"\"\"\n",
    "    Return a nested list: \n",
    "    pred_1to20 is a nested list, each inner list contains prediction result \n",
    "    for particular K (K=1,...,20)\n",
    "    \"\"\"\n",
    "    k_lst = np.arange(1,21,1)\n",
    "    pred_1to20 = [] \n",
    "    accuracy_list = []\n",
    "    for i in k_lst:\n",
    "        pred_KNN = get_pred_list(Xtest, Xtrain, ytrain, i)\n",
    "        #pred_1to20.append(pred_KNN)\n",
    "        #for item in pred_1to20:\n",
    "        accu = cal_accuracy_KNN(pred_KNN, ytest)\n",
    "        accuracy_list.append(accu)\n",
    "    return accuracy_list"
   ]
  },
  {
   "cell_type": "markdown",
   "metadata": {},
   "source": [
    "1st CV"
   ]
  },
  {
   "cell_type": "code",
   "execution_count": 71,
   "metadata": {},
   "outputs": [],
   "source": [
    "accuracy_1 = KNN_1to20_accuracy(X_test_1, X_train_1, y_train_1, y_test_1)"
   ]
  },
  {
   "cell_type": "markdown",
   "metadata": {},
   "source": [
    "2nd CV"
   ]
  },
  {
   "cell_type": "code",
   "execution_count": 72,
   "metadata": {},
   "outputs": [],
   "source": [
    "accuracy_2 = KNN_1to20_accuracy(X_test_2, X_train_2, y_train_2, y_test_2)"
   ]
  },
  {
   "cell_type": "markdown",
   "metadata": {},
   "source": [
    "3rd CV"
   ]
  },
  {
   "cell_type": "code",
   "execution_count": 73,
   "metadata": {},
   "outputs": [],
   "source": [
    "accuracy_3 = KNN_1to20_accuracy(X_test_3, X_train_3, y_train_3, y_test_3)"
   ]
  },
  {
   "cell_type": "markdown",
   "metadata": {},
   "source": [
    "4th CV"
   ]
  },
  {
   "cell_type": "code",
   "execution_count": 74,
   "metadata": {},
   "outputs": [],
   "source": [
    "accuracy_4 = KNN_1to20_accuracy(X_test_4, X_train_4, y_train_4, y_test_4)"
   ]
  },
  {
   "cell_type": "markdown",
   "metadata": {},
   "source": [
    "5th CV"
   ]
  },
  {
   "cell_type": "code",
   "execution_count": 75,
   "metadata": {},
   "outputs": [],
   "source": [
    "accuracy_5 = KNN_1to20_accuracy(X_test_5, X_train_5, y_train_5, y_test_5)"
   ]
  },
  {
   "cell_type": "markdown",
   "metadata": {},
   "source": [
    "6th CV"
   ]
  },
  {
   "cell_type": "code",
   "execution_count": 76,
   "metadata": {},
   "outputs": [],
   "source": [
    "accuracy_6 = KNN_1to20_accuracy(X_test_6, X_train_6, y_train_6, y_test_6)"
   ]
  },
  {
   "cell_type": "markdown",
   "metadata": {},
   "source": [
    "7th CV"
   ]
  },
  {
   "cell_type": "code",
   "execution_count": 77,
   "metadata": {},
   "outputs": [],
   "source": [
    "accuracy_7 = KNN_1to20_accuracy(X_test_7, X_train_7, y_train_7, y_test_7)"
   ]
  },
  {
   "cell_type": "markdown",
   "metadata": {},
   "source": [
    "8th CV"
   ]
  },
  {
   "cell_type": "code",
   "execution_count": 78,
   "metadata": {},
   "outputs": [],
   "source": [
    "accuracy_8 = KNN_1to20_accuracy(X_test_8, X_train_8, y_train_8, y_test_8)"
   ]
  },
  {
   "cell_type": "markdown",
   "metadata": {},
   "source": [
    "9th CV"
   ]
  },
  {
   "cell_type": "code",
   "execution_count": 79,
   "metadata": {},
   "outputs": [],
   "source": [
    "accuracy_9 = KNN_1to20_accuracy(X_test_9, X_train_9, y_train_9, y_test_9)"
   ]
  },
  {
   "cell_type": "markdown",
   "metadata": {},
   "source": [
    "10th CV"
   ]
  },
  {
   "cell_type": "markdown",
   "metadata": {},
   "source": [
    "Create a cross validation table, each row corresponds different value of K"
   ]
  },
  {
   "cell_type": "code",
   "execution_count": 80,
   "metadata": {},
   "outputs": [],
   "source": [
    "accuracy_10 = KNN_1to20_accuracy(X_test_10, X_train_10, y_train_10, y_test_10)"
   ]
  },
  {
   "cell_type": "code",
   "execution_count": 81,
   "metadata": {},
   "outputs": [
    {
     "data": {
      "text/html": [
       "<div>\n",
       "<style scoped>\n",
       "    .dataframe tbody tr th:only-of-type {\n",
       "        vertical-align: middle;\n",
       "    }\n",
       "\n",
       "    .dataframe tbody tr th {\n",
       "        vertical-align: top;\n",
       "    }\n",
       "\n",
       "    .dataframe thead th {\n",
       "        text-align: right;\n",
       "    }\n",
       "</style>\n",
       "<table border=\"1\" class=\"dataframe\">\n",
       "  <thead>\n",
       "    <tr style=\"text-align: right;\">\n",
       "      <th></th>\n",
       "      <th>CV1</th>\n",
       "      <th>CV2</th>\n",
       "      <th>CV3</th>\n",
       "      <th>CV4</th>\n",
       "      <th>CV5</th>\n",
       "      <th>CV6</th>\n",
       "      <th>CV7</th>\n",
       "      <th>CV8</th>\n",
       "      <th>CV9</th>\n",
       "      <th>CV10</th>\n",
       "      <th>sum_accuracy</th>\n",
       "      <th>avg_accuracy</th>\n",
       "    </tr>\n",
       "  </thead>\n",
       "  <tbody>\n",
       "    <tr>\n",
       "      <th>0</th>\n",
       "      <td>0.393478</td>\n",
       "      <td>0.926087</td>\n",
       "      <td>0.917391</td>\n",
       "      <td>0.913043</td>\n",
       "      <td>0.913043</td>\n",
       "      <td>0.908696</td>\n",
       "      <td>0.917391</td>\n",
       "      <td>0.880435</td>\n",
       "      <td>0.906522</td>\n",
       "      <td>0.913043</td>\n",
       "      <td>8.589130</td>\n",
       "      <td>0.858913</td>\n",
       "    </tr>\n",
       "    <tr>\n",
       "      <th>1</th>\n",
       "      <td>0.393478</td>\n",
       "      <td>0.921739</td>\n",
       "      <td>0.908696</td>\n",
       "      <td>0.908696</td>\n",
       "      <td>0.895652</td>\n",
       "      <td>0.893478</td>\n",
       "      <td>0.902174</td>\n",
       "      <td>0.867391</td>\n",
       "      <td>0.908696</td>\n",
       "      <td>0.906522</td>\n",
       "      <td>8.506522</td>\n",
       "      <td>0.850652</td>\n",
       "    </tr>\n",
       "    <tr>\n",
       "      <th>2</th>\n",
       "      <td>0.393478</td>\n",
       "      <td>0.923913</td>\n",
       "      <td>0.913043</td>\n",
       "      <td>0.908696</td>\n",
       "      <td>0.900000</td>\n",
       "      <td>0.904348</td>\n",
       "      <td>0.934783</td>\n",
       "      <td>0.878261</td>\n",
       "      <td>0.915217</td>\n",
       "      <td>0.917391</td>\n",
       "      <td>8.589130</td>\n",
       "      <td>0.858913</td>\n",
       "    </tr>\n",
       "    <tr>\n",
       "      <th>3</th>\n",
       "      <td>0.393478</td>\n",
       "      <td>0.923913</td>\n",
       "      <td>0.910870</td>\n",
       "      <td>0.897826</td>\n",
       "      <td>0.910870</td>\n",
       "      <td>0.893478</td>\n",
       "      <td>0.917391</td>\n",
       "      <td>0.886957</td>\n",
       "      <td>0.915217</td>\n",
       "      <td>0.910870</td>\n",
       "      <td>8.560870</td>\n",
       "      <td>0.856087</td>\n",
       "    </tr>\n",
       "    <tr>\n",
       "      <th>4</th>\n",
       "      <td>0.393478</td>\n",
       "      <td>0.928261</td>\n",
       "      <td>0.928261</td>\n",
       "      <td>0.897826</td>\n",
       "      <td>0.910870</td>\n",
       "      <td>0.908696</td>\n",
       "      <td>0.930435</td>\n",
       "      <td>0.882609</td>\n",
       "      <td>0.917391</td>\n",
       "      <td>0.919565</td>\n",
       "      <td>8.617391</td>\n",
       "      <td>0.861739</td>\n",
       "    </tr>\n",
       "    <tr>\n",
       "      <th>5</th>\n",
       "      <td>0.393478</td>\n",
       "      <td>0.930435</td>\n",
       "      <td>0.928261</td>\n",
       "      <td>0.891304</td>\n",
       "      <td>0.913043</td>\n",
       "      <td>0.895652</td>\n",
       "      <td>0.923913</td>\n",
       "      <td>0.884783</td>\n",
       "      <td>0.919565</td>\n",
       "      <td>0.915217</td>\n",
       "      <td>8.595652</td>\n",
       "      <td>0.859565</td>\n",
       "    </tr>\n",
       "    <tr>\n",
       "      <th>6</th>\n",
       "      <td>0.393478</td>\n",
       "      <td>0.930435</td>\n",
       "      <td>0.923913</td>\n",
       "      <td>0.889130</td>\n",
       "      <td>0.913043</td>\n",
       "      <td>0.897826</td>\n",
       "      <td>0.923913</td>\n",
       "      <td>0.891304</td>\n",
       "      <td>0.923913</td>\n",
       "      <td>0.915217</td>\n",
       "      <td>8.602174</td>\n",
       "      <td>0.860217</td>\n",
       "    </tr>\n",
       "    <tr>\n",
       "      <th>7</th>\n",
       "      <td>0.393478</td>\n",
       "      <td>0.930435</td>\n",
       "      <td>0.917391</td>\n",
       "      <td>0.895652</td>\n",
       "      <td>0.908696</td>\n",
       "      <td>0.897826</td>\n",
       "      <td>0.930435</td>\n",
       "      <td>0.886957</td>\n",
       "      <td>0.917391</td>\n",
       "      <td>0.904348</td>\n",
       "      <td>8.582609</td>\n",
       "      <td>0.858261</td>\n",
       "    </tr>\n",
       "    <tr>\n",
       "      <th>8</th>\n",
       "      <td>0.393478</td>\n",
       "      <td>0.923913</td>\n",
       "      <td>0.913043</td>\n",
       "      <td>0.902174</td>\n",
       "      <td>0.910870</td>\n",
       "      <td>0.897826</td>\n",
       "      <td>0.934783</td>\n",
       "      <td>0.880435</td>\n",
       "      <td>0.919565</td>\n",
       "      <td>0.913043</td>\n",
       "      <td>8.589130</td>\n",
       "      <td>0.858913</td>\n",
       "    </tr>\n",
       "    <tr>\n",
       "      <th>9</th>\n",
       "      <td>0.393478</td>\n",
       "      <td>0.930435</td>\n",
       "      <td>0.915217</td>\n",
       "      <td>0.893478</td>\n",
       "      <td>0.906522</td>\n",
       "      <td>0.895652</td>\n",
       "      <td>0.926087</td>\n",
       "      <td>0.873913</td>\n",
       "      <td>0.915217</td>\n",
       "      <td>0.904348</td>\n",
       "      <td>8.554348</td>\n",
       "      <td>0.855435</td>\n",
       "    </tr>\n",
       "    <tr>\n",
       "      <th>10</th>\n",
       "      <td>0.393478</td>\n",
       "      <td>0.928261</td>\n",
       "      <td>0.915217</td>\n",
       "      <td>0.895652</td>\n",
       "      <td>0.917391</td>\n",
       "      <td>0.889130</td>\n",
       "      <td>0.923913</td>\n",
       "      <td>0.878261</td>\n",
       "      <td>0.908696</td>\n",
       "      <td>0.906522</td>\n",
       "      <td>8.556522</td>\n",
       "      <td>0.855652</td>\n",
       "    </tr>\n",
       "    <tr>\n",
       "      <th>11</th>\n",
       "      <td>0.393478</td>\n",
       "      <td>0.932609</td>\n",
       "      <td>0.913043</td>\n",
       "      <td>0.893478</td>\n",
       "      <td>0.910870</td>\n",
       "      <td>0.891304</td>\n",
       "      <td>0.926087</td>\n",
       "      <td>0.873913</td>\n",
       "      <td>0.902174</td>\n",
       "      <td>0.904348</td>\n",
       "      <td>8.541304</td>\n",
       "      <td>0.854130</td>\n",
       "    </tr>\n",
       "    <tr>\n",
       "      <th>12</th>\n",
       "      <td>0.393478</td>\n",
       "      <td>0.932609</td>\n",
       "      <td>0.915217</td>\n",
       "      <td>0.889130</td>\n",
       "      <td>0.915217</td>\n",
       "      <td>0.891304</td>\n",
       "      <td>0.934783</td>\n",
       "      <td>0.880435</td>\n",
       "      <td>0.904348</td>\n",
       "      <td>0.900000</td>\n",
       "      <td>8.556522</td>\n",
       "      <td>0.855652</td>\n",
       "    </tr>\n",
       "    <tr>\n",
       "      <th>13</th>\n",
       "      <td>0.393478</td>\n",
       "      <td>0.928261</td>\n",
       "      <td>0.910870</td>\n",
       "      <td>0.886957</td>\n",
       "      <td>0.913043</td>\n",
       "      <td>0.886957</td>\n",
       "      <td>0.930435</td>\n",
       "      <td>0.876087</td>\n",
       "      <td>0.904348</td>\n",
       "      <td>0.893478</td>\n",
       "      <td>8.523913</td>\n",
       "      <td>0.852391</td>\n",
       "    </tr>\n",
       "    <tr>\n",
       "      <th>14</th>\n",
       "      <td>0.393478</td>\n",
       "      <td>0.930435</td>\n",
       "      <td>0.908696</td>\n",
       "      <td>0.884783</td>\n",
       "      <td>0.908696</td>\n",
       "      <td>0.889130</td>\n",
       "      <td>0.923913</td>\n",
       "      <td>0.871739</td>\n",
       "      <td>0.906522</td>\n",
       "      <td>0.895652</td>\n",
       "      <td>8.513043</td>\n",
       "      <td>0.851304</td>\n",
       "    </tr>\n",
       "    <tr>\n",
       "      <th>15</th>\n",
       "      <td>0.393478</td>\n",
       "      <td>0.926087</td>\n",
       "      <td>0.910870</td>\n",
       "      <td>0.884783</td>\n",
       "      <td>0.915217</td>\n",
       "      <td>0.897826</td>\n",
       "      <td>0.926087</td>\n",
       "      <td>0.869565</td>\n",
       "      <td>0.904348</td>\n",
       "      <td>0.895652</td>\n",
       "      <td>8.523913</td>\n",
       "      <td>0.852391</td>\n",
       "    </tr>\n",
       "    <tr>\n",
       "      <th>16</th>\n",
       "      <td>0.393478</td>\n",
       "      <td>0.930435</td>\n",
       "      <td>0.910870</td>\n",
       "      <td>0.878261</td>\n",
       "      <td>0.904348</td>\n",
       "      <td>0.893478</td>\n",
       "      <td>0.921739</td>\n",
       "      <td>0.871739</td>\n",
       "      <td>0.910870</td>\n",
       "      <td>0.893478</td>\n",
       "      <td>8.508696</td>\n",
       "      <td>0.850870</td>\n",
       "    </tr>\n",
       "    <tr>\n",
       "      <th>17</th>\n",
       "      <td>0.393478</td>\n",
       "      <td>0.928261</td>\n",
       "      <td>0.906522</td>\n",
       "      <td>0.882609</td>\n",
       "      <td>0.897826</td>\n",
       "      <td>0.893478</td>\n",
       "      <td>0.926087</td>\n",
       "      <td>0.876087</td>\n",
       "      <td>0.915217</td>\n",
       "      <td>0.893478</td>\n",
       "      <td>8.513043</td>\n",
       "      <td>0.851304</td>\n",
       "    </tr>\n",
       "    <tr>\n",
       "      <th>18</th>\n",
       "      <td>0.393478</td>\n",
       "      <td>0.923913</td>\n",
       "      <td>0.906522</td>\n",
       "      <td>0.880435</td>\n",
       "      <td>0.895652</td>\n",
       "      <td>0.893478</td>\n",
       "      <td>0.919565</td>\n",
       "      <td>0.873913</td>\n",
       "      <td>0.910870</td>\n",
       "      <td>0.900000</td>\n",
       "      <td>8.497826</td>\n",
       "      <td>0.849783</td>\n",
       "    </tr>\n",
       "    <tr>\n",
       "      <th>19</th>\n",
       "      <td>0.393478</td>\n",
       "      <td>0.921739</td>\n",
       "      <td>0.906522</td>\n",
       "      <td>0.880435</td>\n",
       "      <td>0.897826</td>\n",
       "      <td>0.895652</td>\n",
       "      <td>0.915217</td>\n",
       "      <td>0.876087</td>\n",
       "      <td>0.910870</td>\n",
       "      <td>0.895652</td>\n",
       "      <td>8.493478</td>\n",
       "      <td>0.849348</td>\n",
       "    </tr>\n",
       "  </tbody>\n",
       "</table>\n",
       "</div>"
      ],
      "text/plain": [
       "         CV1       CV2       CV3       CV4       CV5       CV6       CV7  \\\n",
       "0   0.393478  0.926087  0.917391  0.913043  0.913043  0.908696  0.917391   \n",
       "1   0.393478  0.921739  0.908696  0.908696  0.895652  0.893478  0.902174   \n",
       "2   0.393478  0.923913  0.913043  0.908696  0.900000  0.904348  0.934783   \n",
       "3   0.393478  0.923913  0.910870  0.897826  0.910870  0.893478  0.917391   \n",
       "4   0.393478  0.928261  0.928261  0.897826  0.910870  0.908696  0.930435   \n",
       "5   0.393478  0.930435  0.928261  0.891304  0.913043  0.895652  0.923913   \n",
       "6   0.393478  0.930435  0.923913  0.889130  0.913043  0.897826  0.923913   \n",
       "7   0.393478  0.930435  0.917391  0.895652  0.908696  0.897826  0.930435   \n",
       "8   0.393478  0.923913  0.913043  0.902174  0.910870  0.897826  0.934783   \n",
       "9   0.393478  0.930435  0.915217  0.893478  0.906522  0.895652  0.926087   \n",
       "10  0.393478  0.928261  0.915217  0.895652  0.917391  0.889130  0.923913   \n",
       "11  0.393478  0.932609  0.913043  0.893478  0.910870  0.891304  0.926087   \n",
       "12  0.393478  0.932609  0.915217  0.889130  0.915217  0.891304  0.934783   \n",
       "13  0.393478  0.928261  0.910870  0.886957  0.913043  0.886957  0.930435   \n",
       "14  0.393478  0.930435  0.908696  0.884783  0.908696  0.889130  0.923913   \n",
       "15  0.393478  0.926087  0.910870  0.884783  0.915217  0.897826  0.926087   \n",
       "16  0.393478  0.930435  0.910870  0.878261  0.904348  0.893478  0.921739   \n",
       "17  0.393478  0.928261  0.906522  0.882609  0.897826  0.893478  0.926087   \n",
       "18  0.393478  0.923913  0.906522  0.880435  0.895652  0.893478  0.919565   \n",
       "19  0.393478  0.921739  0.906522  0.880435  0.897826  0.895652  0.915217   \n",
       "\n",
       "         CV8       CV9      CV10  sum_accuracy  avg_accuracy  \n",
       "0   0.880435  0.906522  0.913043      8.589130      0.858913  \n",
       "1   0.867391  0.908696  0.906522      8.506522      0.850652  \n",
       "2   0.878261  0.915217  0.917391      8.589130      0.858913  \n",
       "3   0.886957  0.915217  0.910870      8.560870      0.856087  \n",
       "4   0.882609  0.917391  0.919565      8.617391      0.861739  \n",
       "5   0.884783  0.919565  0.915217      8.595652      0.859565  \n",
       "6   0.891304  0.923913  0.915217      8.602174      0.860217  \n",
       "7   0.886957  0.917391  0.904348      8.582609      0.858261  \n",
       "8   0.880435  0.919565  0.913043      8.589130      0.858913  \n",
       "9   0.873913  0.915217  0.904348      8.554348      0.855435  \n",
       "10  0.878261  0.908696  0.906522      8.556522      0.855652  \n",
       "11  0.873913  0.902174  0.904348      8.541304      0.854130  \n",
       "12  0.880435  0.904348  0.900000      8.556522      0.855652  \n",
       "13  0.876087  0.904348  0.893478      8.523913      0.852391  \n",
       "14  0.871739  0.906522  0.895652      8.513043      0.851304  \n",
       "15  0.869565  0.904348  0.895652      8.523913      0.852391  \n",
       "16  0.871739  0.910870  0.893478      8.508696      0.850870  \n",
       "17  0.876087  0.915217  0.893478      8.513043      0.851304  \n",
       "18  0.873913  0.910870  0.900000      8.497826      0.849783  \n",
       "19  0.876087  0.910870  0.895652      8.493478      0.849348  "
      ]
     },
     "execution_count": 81,
     "metadata": {},
     "output_type": "execute_result"
    }
   ],
   "source": [
    "accuracy_data = pd.DataFrame(\n",
    "        {'CV1': accuracy_1,\n",
    "         'CV2': accuracy_2,\n",
    "         'CV3': accuracy_3,\n",
    "         'CV4': accuracy_4,\n",
    "         'CV5': accuracy_5,\n",
    "         'CV6': accuracy_6,\n",
    "         'CV7': accuracy_7,\n",
    "         'CV8': accuracy_8,\n",
    "         'CV9': accuracy_9,\n",
    "         'CV10': accuracy_10,\n",
    "        })\n",
    "accuracy_data['sum_accuracy'] = accuracy_data.sum(axis=1)\n",
    "accuracy_data['avg_accuracy'] = accuracy_data['sum_accuracy']/10\n",
    "accuracy_data"
   ]
  },
  {
   "cell_type": "code",
   "execution_count": 82,
   "metadata": {},
   "outputs": [
    {
     "data": {
      "text/plain": [
       "([<matplotlib.axis.XTick at 0x122a50160>,\n",
       "  <matplotlib.axis.XTick at 0x122a13a90>,\n",
       "  <matplotlib.axis.XTick at 0x122a13208>,\n",
       "  <matplotlib.axis.XTick at 0x1234cf588>,\n",
       "  <matplotlib.axis.XTick at 0x1234cfa58>,\n",
       "  <matplotlib.axis.XTick at 0x1234cfa20>,\n",
       "  <matplotlib.axis.XTick at 0x1234d4160>,\n",
       "  <matplotlib.axis.XTick at 0x1234d45f8>,\n",
       "  <matplotlib.axis.XTick at 0x1234d4ac8>,\n",
       "  <matplotlib.axis.XTick at 0x1234d4e80>,\n",
       "  <matplotlib.axis.XTick at 0x1234dc4a8>,\n",
       "  <matplotlib.axis.XTick at 0x1234dc978>,\n",
       "  <matplotlib.axis.XTick at 0x1234dce48>,\n",
       "  <matplotlib.axis.XTick at 0x1234e3358>,\n",
       "  <matplotlib.axis.XTick at 0x1234dca58>,\n",
       "  <matplotlib.axis.XTick at 0x1234d45c0>,\n",
       "  <matplotlib.axis.XTick at 0x1234e3048>,\n",
       "  <matplotlib.axis.XTick at 0x1234e3b38>,\n",
       "  <matplotlib.axis.XTick at 0x1234ee0b8>,\n",
       "  <matplotlib.axis.XTick at 0x1234ee518>],\n",
       " <a list of 20 Text xticklabel objects>)"
      ]
     },
     "execution_count": 82,
     "metadata": {},
     "output_type": "execute_result"
    },
    {
     "data": {
      "image/png": "[encoded data removed]",
      "text/plain": [
       "<Figure size 720x576 with 1 Axes>"
      ]
     },
     "metadata": {
      "needs_background": "light"
     },
     "output_type": "display_data"
    }
   ],
   "source": [
    "plt.figure(figsize=(10,8))\n",
    "x_K = np.arange(1,21,1)\n",
    "y_accuracy = accuracy_data['avg_accuracy'].tolist()\n",
    "plt.plot(x_K,y_accuracy)\n",
    "plt.xlabel('K')\n",
    "plt.ylabel('mean accuracy for 10 CV')\n",
    "plt.title('Prediction Accuracy by K (KNN)')\n",
    "plt.scatter(x_K,y_accuracy, c='r')\n",
    "plt.xticks(x_K)"
   ]
  }
 ],
 "metadata": {
  "kernelspec": {
   "display_name": "coms007",
   "language": "python",
   "name": "coms007"
  },
  "language_info": {
   "codemirror_mode": {
    "name": "ipython",
    "version": 3
   },
   "file_extension": ".py",
   "mimetype": "text/x-python",
   "name": "python",
   "nbconvert_exporter": "python",
   "pygments_lexer": "ipython3",
   "version": "3.6.5"
  }
 },
 "nbformat": 4,
 "nbformat_minor": 2
}
