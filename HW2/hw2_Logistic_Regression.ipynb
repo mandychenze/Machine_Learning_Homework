{
 "cells": [
  {
   "cell_type": "markdown",
   "metadata": {},
   "source": [
    "## Question (d) - Steepest ascent "
   ]
  },
  {
   "cell_type": "code",
   "execution_count": 1,
   "metadata": {},
   "outputs": [],
   "source": [
    "import pandas as pd\n",
    "import numpy as np\n",
    "import math\n",
    "import matplotlib.pyplot as plt"
   ]
  },
  {
   "cell_type": "markdown",
   "metadata": {},
   "source": [
    "Randomly split data"
   ]
  },
  {
   "cell_type": "code",
   "execution_count": 2,
   "metadata": {},
   "outputs": [],
   "source": [
    "X = pd.read_csv('X.csv', header = None)\n",
    "y = pd.read_csv('y.csv', header = None)\n",
    "\n",
    "y = y.replace(0, -1)\n",
    "X['1s'] = 1\n",
    "X_y_combined = pd.concat([X, y], axis=1, sort=False)"
   ]
  },
  {
   "cell_type": "code",
   "execution_count": 3,
   "metadata": {},
   "outputs": [],
   "source": [
    "shuffled_data = X_y_combined.sample(frac=1)"
   ]
  },
  {
   "cell_type": "code",
   "execution_count": 4,
   "metadata": {},
   "outputs": [],
   "source": [
    "data1 = shuffled_data.iloc[0:460,:]\n",
    "data2 = shuffled_data.iloc[460:920,:]\n",
    "data3 = shuffled_data.iloc[920:1380,:]\n",
    "data4 = shuffled_data.iloc[1380:1840,:]\n",
    "data5 = shuffled_data.iloc[1840:2300,:]\n",
    "data6 = shuffled_data.iloc[2300:2760,:]\n",
    "data7 = shuffled_data.iloc[2760:3220,:]\n",
    "data8 = shuffled_data.iloc[3220:3680,:]\n",
    "data9 = shuffled_data.iloc[3680:4140,:]\n",
    "data10 = shuffled_data.iloc[4140:4600,:]"
   ]
  },
  {
   "cell_type": "code",
   "execution_count": 5,
   "metadata": {},
   "outputs": [],
   "source": [
    "#1-9 V.S. 10\n",
    "result1 = data1.append([data2, data3, data4, data5, data6, data7, data8, data9])\n",
    "X_train_1 = result1.iloc[:,0:55]\n",
    "y_train_1 = result1.iloc[:,-1]\n",
    "X_test_1 = data10.iloc[:,0:55]\n",
    "y_test_1 = data10.iloc[:,-1]\n",
    "\n",
    "#1-8,10, V.S. 9\n",
    "result2 = data1.append([data2, data3, data4, data5, data6, data7, data8, data10])\n",
    "X_train_2 = result2.iloc[:,0:55]\n",
    "y_train_2 = result2.iloc[:,-1]\n",
    "X_test_2 = data9.iloc[:,0:55]\n",
    "y_test_2 = data9.iloc[:,-1]\n",
    "\n",
    "#8\n",
    "result3 = data1.append([data2, data3, data4, data5, data6, data7, data9, data10])\n",
    "X_train_3 = result3.iloc[:,0:55]\n",
    "y_train_3 = result3.iloc[:,-1]\n",
    "X_test_3 = data8.iloc[:,0:55]\n",
    "y_test_3 = data8.iloc[:,-1]\n",
    "\n",
    "#7\n",
    "result4 = data1.append([data2, data3, data4, data5, data6, data8, data9, data10])\n",
    "X_train_4 = result4.iloc[:,0:55]\n",
    "y_train_4 = result4.iloc[:,-1]\n",
    "X_test_4 = data7.iloc[:,0:55]\n",
    "y_test_4 = data7.iloc[:,-1]\n",
    "\n",
    "#6\n",
    "result5 = data1.append([data2, data3, data4, data5, data7, data8, data9, data10])\n",
    "X_train_5 = result5.iloc[:,0:55]\n",
    "y_train_5 = result5.iloc[:,-1]\n",
    "X_test_5 = data6.iloc[:,0:55]\n",
    "y_test_5 = data6.iloc[:,-1]\n",
    "\n",
    "#5\n",
    "result6 = data1.append([data2, data3, data4, data6, data7, data8, data9, data10])\n",
    "X_train_6 = result6.iloc[:,0:55]\n",
    "y_train_6 = result6.iloc[:,-1]\n",
    "X_test_6 = data5.iloc[:,0:55]\n",
    "y_test_6 = data5.iloc[:,-1]\n",
    "\n",
    "#4\n",
    "result7 = data1.append([data2, data3, data5, data6, data7, data8, data9, data10])\n",
    "X_train_7 = result7.iloc[:,0:55]\n",
    "y_train_7 = result7.iloc[:,-1]\n",
    "X_test_7 = data4.iloc[:,0:55]\n",
    "y_test_7 = data4.iloc[:,-1]\n",
    "\n",
    "#3\n",
    "result8 = data1.append([data2, data4, data5, data6, data7, data8, data9, data10])\n",
    "X_train_8 = result8.iloc[:,0:55]\n",
    "y_train_8 = result8.iloc[:,-1]\n",
    "X_test_8 = data3.iloc[:,0:55]\n",
    "y_test_8 = data3.iloc[:,-1]\n",
    "\n",
    "#2\n",
    "result9 = data1.append([data3, data4, data5, data6, data7, data8, data9, data10])\n",
    "X_train_9 = result9.iloc[:,0:55]\n",
    "y_train_9 = result9.iloc[:,-1]\n",
    "X_test_9 = data2.iloc[:,0:55]\n",
    "y_test_9 = data2.iloc[:,-1]\n",
    "\n",
    "#1\n",
    "result10 = data2.append([data3, data4, data5, data6, data7, data8, data9, data10])\n",
    "X_train_10 = result10.iloc[:,0:55]\n",
    "y_train_10 = result10.iloc[:,-1]\n",
    "X_test_10 = data1.iloc[:,0:55]\n",
    "y_test_10 = data1.iloc[:,-1]"
   ]
  },
  {
   "cell_type": "markdown",
   "metadata": {},
   "source": [
    "Implement steepest ascent algorithm"
   ]
  },
  {
   "cell_type": "code",
   "execution_count": 7,
   "metadata": {},
   "outputs": [],
   "source": [
    "def steepest_ascent(Xdata, ydata, rate, num_iters):\n",
    "    \"\"\"\n",
    "    Retrun two lists: 'new_cw' and 'cost_lst', new_cw contains new w learned \n",
    "    after runing num_iters iterations, cost_lst contains costs per iterations.\n",
    "    \n",
    "    @Xdata: X dataset\n",
    "    @ydata: y dataset\n",
    "    @rate: learning rate\n",
    "    @num_iters: number of iterations will perform\n",
    "    \"\"\"\n",
    "    cost_lst = []\n",
    "    cur_w = np.array([0] * 55) #inital w, w=0\n",
    "    new_cw = np.array([0] * 55)\n",
    "    iters = 0\n",
    "    \n",
    "    while iters < num_iters:\n",
    "        cur_w = new_cw\n",
    "        iterate_over_rows = np.arange(Xdata.shape[0])\n",
    "        sum_acc = 0\n",
    "        for i in iterate_over_rows: #get sum\n",
    "            x_array = Xdata.iloc[i].values\n",
    "            part1 = math.e**(ydata.iloc[i]*np.inner(x_array, cur_w)) #e term\n",
    "            part2 = part1/(1+part1) #sigma(y*w)\n",
    "            sum_term_component=np.array((1-part2))*np.array(ydata.iloc[i])*x_array\n",
    "            sum_acc += sum_term_component #sum_acc now a 1*55 array\n",
    "        new_cw = cur_w + rate*sum_acc  #new w we get after one iteration\n",
    "        \n",
    "        #update cost function\n",
    "        cost_acc = 0\n",
    "        for i in iterate_over_rows:\n",
    "            x_array = Xdata.iloc[i].values\n",
    "            part1 = math.e**(ydata.iloc[i]*np.inner(x_array, new_cw)) #e term\n",
    "            part2 = part1/(1+part1)\n",
    "            cost_component = math.log(part2)\n",
    "            cost_acc += cost_component\n",
    "        cost_lst.append(cost_acc) #cost list\n",
    "        \n",
    "        iters += 1\n",
    "    return new_cw, cost_lst "
   ]
  },
  {
   "cell_type": "markdown",
   "metadata": {},
   "source": [
    "steepest ascent for 10 Corss Validation"
   ]
  },
  {
   "cell_type": "code",
   "execution_count": 8,
   "metadata": {},
   "outputs": [],
   "source": [
    "new_cw1, cost_lst1 = steepest_ascent(X_train_1, y_train_1, 0.01/4600, 1000)"
   ]
  },
  {
   "cell_type": "code",
   "execution_count": 12,
   "metadata": {},
   "outputs": [],
   "source": [
    "new_cw2, cost_lst2 = steepest_ascent(X_train_2, y_train_2, 0.01/4600, 1000)"
   ]
  },
  {
   "cell_type": "code",
   "execution_count": 13,
   "metadata": {},
   "outputs": [],
   "source": [
    "new_cw3, cost_lst3 = steepest_ascent(X_train_3, y_train_3, 0.01/4600, 1000)"
   ]
  },
  {
   "cell_type": "code",
   "execution_count": 14,
   "metadata": {},
   "outputs": [],
   "source": [
    "new_cw4, cost_lst4 = steepest_ascent(X_train_4, y_train_4, 0.01/4600, 1000)"
   ]
  },
  {
   "cell_type": "code",
   "execution_count": 15,
   "metadata": {},
   "outputs": [],
   "source": [
    "new_cw5, cost_lst5 = steepest_ascent(X_train_5, y_train_5, 0.01/4600, 1000)"
   ]
  },
  {
   "cell_type": "code",
   "execution_count": 16,
   "metadata": {},
   "outputs": [],
   "source": [
    "new_cw6, cost_lst6 = steepest_ascent(X_train_6, y_train_6, 0.01/4600, 1000)"
   ]
  },
  {
   "cell_type": "code",
   "execution_count": 17,
   "metadata": {},
   "outputs": [],
   "source": [
    "new_cw7, cost_lst7 = steepest_ascent(X_train_7, y_train_7, 0.01/4600, 1000)"
   ]
  },
  {
   "cell_type": "code",
   "execution_count": 18,
   "metadata": {},
   "outputs": [],
   "source": [
    "new_cw8, cost_lst8 = steepest_ascent(X_train_8, y_train_8, 0.01/4600, 1000)"
   ]
  },
  {
   "cell_type": "code",
   "execution_count": 19,
   "metadata": {},
   "outputs": [],
   "source": [
    "new_cw9, cost_lst9 = steepest_ascent(X_train_9, y_train_9, 0.01/4600, 1000)"
   ]
  },
  {
   "cell_type": "code",
   "execution_count": 20,
   "metadata": {},
   "outputs": [],
   "source": [
    "new_cw10, cost_lst10=steepest_ascent(X_train_10,y_train_10,0.01/4600, 1000)"
   ]
  },
  {
   "cell_type": "code",
   "execution_count": null,
   "metadata": {},
   "outputs": [],
   "source": []
  },
  {
   "cell_type": "code",
   "execution_count": 82,
   "metadata": {},
   "outputs": [
    {
     "data": {
      "text/plain": [
       "Text(0, 0.5, 'L')"
      ]
     },
     "execution_count": 82,
     "metadata": {},
     "output_type": "execute_result"
    },
    {
     "data": {
      "image/png": "[encoded data removed]",
      "text/plain": [
       "<Figure size 864x720 with 1 Axes>"
      ]
     },
     "metadata": {
      "needs_background": "light"
     },
     "output_type": "display_data"
    }
   ],
   "source": [
    "x_plot = np.arange(1,1001,1)\n",
    "plt.figure(figsize=(12,10))\n",
    "plt.plot(x_plot,cost_lst1)\n",
    "plt.plot(x_plot,cost_lst2)\n",
    "plt.plot(x_plot,cost_lst3)\n",
    "plt.plot(x_plot,cost_lst4)\n",
    "plt.plot(x_plot,cost_lst5)\n",
    "plt.plot(x_plot,cost_lst6)\n",
    "plt.plot(x_plot,cost_lst7)\n",
    "plt.plot(x_plot,cost_lst8)\n",
    "plt.plot(x_plot,cost_lst9)\n",
    "plt.plot(x_plot,cost_lst10)\n",
    "plt.title('Steepest Ascent Algorithm: L by 1000 iterations')\n",
    "plt.xlabel('iterations')\n",
    "plt.ylabel('L')"
   ]
  },
  {
   "cell_type": "markdown",
   "metadata": {},
   "source": [
    "## Question(e) - Newton Method"
   ]
  },
  {
   "cell_type": "code",
   "execution_count": 23,
   "metadata": {},
   "outputs": [],
   "source": [
    "def newton(Xdata, ydata, num_iters):\n",
    "    \"\"\"\n",
    "    Return learned logistic regression coefficients(w) and objective \n",
    "    function after num_iters iterations.\n",
    "    \"\"\"\n",
    "    cur_w = np.array([0] * 55) #inital w, w=0\n",
    "    new_cw = np.array([0] * 55)\n",
    "\n",
    "    iters = 0\n",
    "    cost_lst=[]\n",
    "    while iters < num_iters:\n",
    "        cur_w = new_cw\n",
    "        acc_1storder = 0\n",
    "        iterate_over_rows = np.arange(Xdata.shape[0])\n",
    "        cost_1stcomponent = 0\n",
    "        for i in iterate_over_rows: #get sum over rows\n",
    "            #e^yXw term\n",
    "            part1 = np.exp(float(np.array(ydata.iloc[i])*np.inner(Xdata.iloc[i].\n",
    "                                                                  values, cur_w)))\n",
    "            #part1 = math.e**exp_term #e^yXw term\n",
    "            part2 = part1/(1+part1) #sigma(yxw)\n",
    "            first_order_component = np.array((1-part2))*np.array(ydata.\n",
    "                                                                 iloc[i])*Xdata.iloc[i]\n",
    "            acc_1storder += first_order_component #sum_acc now a 1*55 array\n",
    "            snd_order_component = -np.array(part1/((1+part1)**2))\n",
    "            Lwt = np.log(part2)\n",
    "            cost_1stcomponent += Lwt\n",
    "                \n",
    "        \n",
    "        fst_gradiet = np.matrix(acc_1storder).reshape(-1,1)  #55*1\n",
    "        sec_gradient = np.matmul(np.matrix(Xdata).T,np.matrix(Xdata)) #55*55\n",
    "        hessian = snd_order_component*sec_gradient\n",
    "        inv_hessian = np.linalg.inv(hessian) \n",
    "        #print(hessian)\n",
    "        new_cw = cur_w - inv_hessian.dot(acc_1storder) \n",
    "        \n",
    "        #cost_2nd = (new_cw-cur_w).T*fst_gradiet\n",
    "        cost_2nd = float(np.matmul((new_cw-cur_w),fst_gradiet)) #w-wt: 1*55\n",
    "        #cost_3rd = (new_cw-cur_w).T*sec_gradient\n",
    "        cost_3rd_part1 = np.matmul((new_cw-cur_w),hessian)\n",
    "        cost_3rd = 1/2*(float(np.matmul(cost_3rd_part1,(new_cw-cur_w).T)))\n",
    "        cost = cost_1stcomponent+cost_2nd+cost_3rd\n",
    "        cost_lst.append(cost)\n",
    "        \n",
    "        iters+=1\n",
    "    \n",
    "    return new_cw, cost_lst"
   ]
  },
  {
   "cell_type": "code",
   "execution_count": 80,
   "metadata": {},
   "outputs": [],
   "source": [
    "def newton2(Xdata, ydata, num_iters):\n",
    "    \"\"\"\n",
    "    Return learned logistic regression coefficients(w) and objective function \n",
    "    after num_iters iterations.But add 10^-6 to diagonal before inverting \n",
    "    hessian matrix.\n",
    "    \"\"\"\n",
    "    cur_w = np.array([0] * 55) #inital w, w=0\n",
    "    new_cw = np.array([0] * 55)\n",
    "\n",
    "    iters = 0\n",
    "    cost_lst=[]\n",
    "    while iters < num_iters:\n",
    "        cur_w = new_cw\n",
    "        acc_1storder = 0\n",
    "        iterate_over_rows = np.arange(Xdata.shape[0])\n",
    "        cost_1stcomponent = 0\n",
    "        for i in iterate_over_rows: #get sum over rows\n",
    "            #e^yXw term\n",
    "            part1 = np.exp(float(np.array(ydata.iloc[i])*np.inner(Xdata.iloc[i].\n",
    "                                                                  values, cur_w)))\n",
    "            #part1 = math.e**exp_term #e^yXw term\n",
    "            part2 = part1/(1+part1) #sigma(yxw)\n",
    "            first_order_component=np.array((1-part2))*np.array(ydata.\n",
    "                                                               iloc[i])*Xdata.iloc[i]\n",
    "            acc_1storder += first_order_component #sum_acc now a 1*55 array\n",
    "            snd_order_component = -np.array(part1/((1+part1)**2))\n",
    "            Lwt = np.log(part2)\n",
    "            cost_1stcomponent += Lwt\n",
    "                \n",
    "        \n",
    "        fst_gradiet = np.matrix(acc_1storder).reshape(-1,1)  #55*1\n",
    "        sec_gradient = np.matmul(np.matrix(Xdata).T,np.matrix(Xdata)) #55*55\n",
    "        hessian = snd_order_component*sec_gradient\n",
    "        \n",
    "        a = np.array([math.pow(10,-6)]*55).reshape(1,-1)\n",
    "        d = np.matrix(np.diag(a[0]))\n",
    "        hessian_2 = hessian - d\n",
    "        \n",
    "        inv_hessian = np.linalg.inv(hessian_2) \n",
    "        #print(hessian)\n",
    "        \n",
    "        #if np.isnan(cur_w).any() == True: #if has nan return Ture\n",
    "            #return cur_w, cost_lst\n",
    "        \n",
    "        new_cw = cur_w - inv_hessian.dot(acc_1storder) \n",
    "        \n",
    "        #cost_2nd = (new_cw-cur_w).T*fst_gradiet\n",
    "        cost_2nd = float(np.matmul((new_cw-cur_w),fst_gradiet)) #w-wt: 1*55\n",
    "        #cost_3rd = (new_cw-cur_w).T*sec_gradient\n",
    "        cost_3rd_part1 = np.matmul((new_cw-cur_w),hessian)\n",
    "        cost_3rd = 1/2*(float(np.matmul(cost_3rd_part1,(new_cw-cur_w).T)))\n",
    "        cost = cost_1stcomponent+cost_2nd+cost_3rd\n",
    "        cost_lst.append(cost)\n",
    "        \n",
    "        \n",
    "        iters+=1\n",
    "    \n",
    "    return new_cw, cost_lst"
   ]
  },
  {
   "cell_type": "code",
   "execution_count": 90,
   "metadata": {},
   "outputs": [],
   "source": [
    "newton_w1, newton_cost1 = newton2(X_train_1, y_train_1, 100)"
   ]
  },
  {
   "cell_type": "code",
   "execution_count": 27,
   "metadata": {},
   "outputs": [],
   "source": [
    "newton_w2, newton_cost2 = newton(X_train_2, y_train_2, 100)"
   ]
  },
  {
   "cell_type": "code",
   "execution_count": 28,
   "metadata": {},
   "outputs": [],
   "source": [
    "newton_w3, newton_cost3 = newton(X_train_3, y_train_3, 100)"
   ]
  },
  {
   "cell_type": "code",
   "execution_count": 29,
   "metadata": {},
   "outputs": [],
   "source": [
    "newton_w4, newton_cost4 = newton(X_train_4, y_train_4, 100)"
   ]
  },
  {
   "cell_type": "code",
   "execution_count": 30,
   "metadata": {},
   "outputs": [],
   "source": [
    "newton_w5, newton_cost5 = newton(X_train_5, y_train_5, 100)"
   ]
  },
  {
   "cell_type": "code",
   "execution_count": 31,
   "metadata": {},
   "outputs": [],
   "source": [
    "newton_w6, newton_cost6 = newton(X_train_6, y_train_6, 100)"
   ]
  },
  {
   "cell_type": "code",
   "execution_count": 32,
   "metadata": {},
   "outputs": [],
   "source": [
    "newton_w7, newton_cost7 = newton(X_train_7, y_train_7, 100)"
   ]
  },
  {
   "cell_type": "code",
   "execution_count": 33,
   "metadata": {},
   "outputs": [],
   "source": [
    "newton_w8, newton_cost8 = newton(X_train_8, y_train_8, 100)"
   ]
  },
  {
   "cell_type": "code",
   "execution_count": 34,
   "metadata": {},
   "outputs": [],
   "source": [
    "newton_w9, newton_cost9 = newton(X_train_9, y_train_9, 100)"
   ]
  },
  {
   "cell_type": "code",
   "execution_count": 35,
   "metadata": {},
   "outputs": [],
   "source": [
    "newton_w10, newton_cost10=newton(X_train_10, y_train_10,100)"
   ]
  },
  {
   "cell_type": "markdown",
   "metadata": {},
   "source": [
    "Plot Graph"
   ]
  },
  {
   "cell_type": "code",
   "execution_count": 100,
   "metadata": {},
   "outputs": [
    {
     "data": {
      "text/plain": [
       "Text(0, 0.5, 'L')"
      ]
     },
     "execution_count": 100,
     "metadata": {},
     "output_type": "execute_result"
    },
    {
     "data": {
      "image/png": "[encoded data removed]",
      "text/plain": [
       "<Figure size 864x720 with 1 Axes>"
      ]
     },
     "metadata": {
      "needs_background": "light"
     },
     "output_type": "display_data"
    }
   ],
   "source": [
    "x_plot = np.arange(1,101,1)\n",
    "plt.figure(figsize=(12,10))\n",
    "plt.plot(x_plot,newton_cost1)\n",
    "plt.plot(x_plot,newton_cost2)\n",
    "plt.plot(x_plot,newton_cost3)\n",
    "plt.plot(x_plot,newton_cost4)\n",
    "plt.plot(x_plot,newton_cost5)\n",
    "plt.plot(x_plot,newton_cost6)\n",
    "plt.plot(x_plot,newton_cost7)\n",
    "plt.plot(x_plot,newton_cost8)\n",
    "plt.plot(x_plot,newton_cost9)\n",
    "plt.plot(x_plot,newton_cost10)\n",
    "plt.title('Newton Method: L by 100 iterations')\n",
    "plt.xlabel('iterations(t)')\n",
    "plt.ylabel('L')"
   ]
  },
  {
   "cell_type": "markdown",
   "metadata": {},
   "source": [
    "## Question (f) Logistic Regression Prediction"
   ]
  },
  {
   "cell_type": "code",
   "execution_count": 50,
   "metadata": {},
   "outputs": [],
   "source": [
    "def get_pred_result(X_test, y_test, w):\n",
    "    \"\"\"\n",
    "    Return TP, TN, FP, FN\n",
    "    \"\"\"\n",
    "    temp = np.matmul(np.matrix(X_test),w.T)\n",
    "    pro_lst = temp.T.tolist()[0]\n",
    "    pred_result = []\n",
    "    for item in pro_lst:\n",
    "        if item >=0.5:\n",
    "            pred_result.append(1)\n",
    "        else:\n",
    "            pred_result.append(-1)\n",
    "            \n",
    "    TP = 0\n",
    "    TN = 0\n",
    "    FP = 0\n",
    "    FN = 0\n",
    "    \n",
    "    true_list = y_test.tolist()\n",
    "    indice_list = np.arange(len(pred_result))\n",
    "    for i in indice_list:\n",
    "        if pred_result[i]==1 and true_list[i]==1:\n",
    "            TP += 1\n",
    "        elif pred_result[i]==-1 and true_list[i]==1:\n",
    "            FN += 1\n",
    "        elif pred_result[i]==1 and true_list[i]==-1:\n",
    "            FP += 1\n",
    "        elif pred_result[i]==-1 and true_list[i]==-1:\n",
    "            TN += 1\n",
    "    return TP, FN, FP, TN"
   ]
  },
  {
   "cell_type": "code",
   "execution_count": 67,
   "metadata": {},
   "outputs": [],
   "source": [
    "TP1, FN1, FP1, TN1 = get_pred_result(X_test_1,y_test_1, newton_w1)\n",
    "TP2, FN2, FP2, TN2 = get_pred_result(X_test_2,y_test_2, newton_w2)\n",
    "TP3, FN3, FP3, TN3 = get_pred_result(X_test_3,y_test_3, newton_w3)\n",
    "TP4, FN4, FP4, TN4 = get_pred_result(X_test_4,y_test_4, newton_w4)\n",
    "TP5, FN5, FP5, TN5 = get_pred_result(X_test_5,y_test_5, newton_w5)\n",
    "TP6, FN6, FP6, TN6 = get_pred_result(X_test_6,y_test_6, newton_w6) \n",
    "TP7, FN7, FP7, TN7 = get_pred_result(X_test_7,y_test_7, newton_w7)\n",
    "TP8, FN8, FP8, TN8 = get_pred_result(X_test_8,y_test_8, newton_w8)\n",
    "TP9, FN9, FP9, TN9 = get_pred_result(X_test_9,y_test_9, newton_w9)\n",
    "TP10, FN10, FP10, TN10 = get_pred_result(X_test_10,y_test_10, newton_w10)"
   ]
  },
  {
   "cell_type": "code",
   "execution_count": 68,
   "metadata": {},
   "outputs": [
    {
     "data": {
      "text/plain": [
       "(1499, 314, 126, 2661)"
      ]
     },
     "execution_count": 68,
     "metadata": {},
     "output_type": "execute_result"
    }
   ],
   "source": [
    "total_TP = TP1 + TP2 + TP3 + TP4 + TP5 + TP6 + TP7 + TP8 + TP9 + TP10  \n",
    "total_FN = FN1 + FN2 + FN3 + FN4 + FN5 + FN6 + FN7 + FN8 + FN9 + FN10\n",
    "total_FP = FP1 + FP2 + FP3 + FP4 + FP5 + FP6 + FP7 + FP8 + FP9 + FP10\n",
    "total_TN = TN1 + TN2 + TN3 + TN4 + TN5 + TN6 + TN7 + TN8 + TN9 + TN10 \n",
    "total = total_TP+total_FN+total_FP+total_TN\n",
    "total_TP,total_FN,total_FP,total_TN"
   ]
  },
  {
   "cell_type": "code",
   "execution_count": 69,
   "metadata": {},
   "outputs": [
    {
     "data": {
      "text/html": [
       "<div>\n",
       "<style scoped>\n",
       "    .dataframe tbody tr th:only-of-type {\n",
       "        vertical-align: middle;\n",
       "    }\n",
       "\n",
       "    .dataframe tbody tr th {\n",
       "        vertical-align: top;\n",
       "    }\n",
       "\n",
       "    .dataframe thead th {\n",
       "        text-align: right;\n",
       "    }\n",
       "</style>\n",
       "<table border=\"1\" class=\"dataframe\">\n",
       "  <thead>\n",
       "    <tr style=\"text-align: right;\">\n",
       "      <th></th>\n",
       "      <th>Actual Postive</th>\n",
       "      <th>Actual Negative</th>\n",
       "    </tr>\n",
       "  </thead>\n",
       "  <tbody>\n",
       "    <tr>\n",
       "      <th>Predicted Postive</th>\n",
       "      <td>TP: 1499</td>\n",
       "      <td>FP: 126</td>\n",
       "    </tr>\n",
       "    <tr>\n",
       "      <th>Predicted Negative</th>\n",
       "      <td>FN: 314</td>\n",
       "      <td>TN: 2661</td>\n",
       "    </tr>\n",
       "  </tbody>\n",
       "</table>\n",
       "</div>"
      ],
      "text/plain": [
       "                   Actual Postive Actual Negative\n",
       "Predicted Postive        TP: 1499         FP: 126\n",
       "Predicted Negative        FN: 314        TN: 2661"
      ]
     },
     "metadata": {},
     "output_type": "display_data"
    }
   ],
   "source": [
    "from IPython.display import display\n",
    "data = [('TP: 1499', 'FP: 126'),('FN: 314', 'TN: 2661')]\n",
    "df = pd.DataFrame(data)\n",
    "df = df.rename({0: 'Predicted Postive', 1: 'Predicted Negative'}, axis='index')\n",
    "df = df.rename({0: 'Actual Postive', 1: 'Actual Negative'}, axis='columns')\n",
    "display(df)"
   ]
  },
  {
   "cell_type": "code",
   "execution_count": 70,
   "metadata": {},
   "outputs": [
    {
     "name": "stdout",
     "output_type": "stream",
     "text": [
      "Accuracy of Logistic Regression(Newton Method): 0.9043478260869565\n"
     ]
    }
   ],
   "source": [
    "accuracy = (total_TP+total_TN)/(total_TP+total_FN+total_FP+total_TN)\n",
    "print(\"Accuracy of Logistic Regression(Newton Method): {}\".format(accuracy))"
   ]
  }
 ],
 "metadata": {
  "kernelspec": {
   "display_name": "Python 3",
   "language": "python",
   "name": "python3"
  },
  "language_info": {
   "codemirror_mode": {
    "name": "ipython",
    "version": 3
   },
   "file_extension": ".py",
   "mimetype": "text/x-python",
   "name": "python",
   "nbconvert_exporter": "python",
   "pygments_lexer": "ipython3",
   "version": "3.6.5"
  }
 },
 "nbformat": 4,
 "nbformat_minor": 2
}
